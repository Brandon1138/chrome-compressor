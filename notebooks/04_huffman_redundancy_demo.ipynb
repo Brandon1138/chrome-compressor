{
  "cells": [
    {
      "cell_type": "markdown",
      "metadata": {},
      "source": [
        "# Huffman Coding and Redundancy Comparison\n",
        "\n",
        "This notebook demonstrates Huffman coding as a single-character baseline and compares it with context-based models (n-gram, PPM) to show where redundancy comes from.\n"
      ]
    },
    {
      "cell_type": "code",
      "execution_count": null,
      "metadata": {},
      "outputs": [],
      "source": [
        "# Imports\n",
        "from pathlib import Path\n",
        "import json\n",
        "\n",
        "from reducelang.huffman import HuffmanModel\n",
        "from reducelang.models import UnigramModel, NGramModel, PPMModel\n",
        "from reducelang.redundancy import compute_redundancy, generate_comparison_table\n",
        "from reducelang.alphabet import ENGLISH_ALPHABET\n",
        "\n",
        "import matplotlib.pyplot as plt\n",
        "import numpy as np\n"
      ]
    },
    {
      "cell_type": "markdown",
      "metadata": {},
      "source": [
        "Huffman coding builds an optimal prefix code from character frequencies. It achieves the entropy lower bound for single-character coding: average code length ≈ H₁ = -Σ p(c) log₂ p(c). However, it cannot exploit dependencies between characters.\n"
      ]
    },
    {
      "cell_type": "code",
      "execution_count": null,
      "metadata": {},
      "outputs": [],
      "source": [
        "# Load a sample corpus (adjust path if needed)\n",
        "corpus_file = Path(\"data/corpora/en/2025-10-01/processed/text8.txt\")\n",
        "text = corpus_file.read_text(encoding=\"utf-8\")[:100_000]\n",
        "split_idx = int(len(text) * 0.8)\n",
        "train_text = text[:split_idx]\n",
        "test_text = text[split_idx:]\n"
      ]
    },
    {
      "cell_type": "markdown",
      "metadata": {},
      "source": [
        "Train Huffman and inspect its average code length and code table sample.\n"
      ]
    },
    {
      "cell_type": "code",
      "execution_count": null,
      "metadata": {},
      "outputs": [],
      "source": [
        "huffman = HuffmanModel(ENGLISH_ALPHABET)\n",
        "huffman.fit(train_text)\n",
        "H_huffman = huffman.evaluate(test_text)\n",
        "print(f\"Huffman average code length: {H_huffman:.4f} bits/char\")\n",
        "list(huffman._code_table.items())[:5]\n"
      ]
    },
    {
      "cell_type": "code",
      "execution_count": null,
      "metadata": {},
      "outputs": [],
      "source": [
        "unigram = UnigramModel(ENGLISH_ALPHABET)\n",
        "unigram.fit(train_text)\n",
        "H_unigram = unigram.evaluate(test_text)\n",
        "print(f\"Unigram entropy: {H_unigram:.4f} bits/char\")\n",
        "print(f\"Difference: {abs(H_huffman - H_unigram):.6f} bpc (should be small)\")\n"
      ]
    },
    {
      "cell_type": "markdown",
      "metadata": {},
      "source": [
        "Redundancy R = 1 - H / log₂M measures how much we can compress beyond uniform coding. For English with M = 27, log₂M ≈ 4.755 bits/char.\n"
      ]
    },
    {
      "cell_type": "code",
      "execution_count": null,
      "metadata": {},
      "outputs": [],
      "source": [
        "M = ENGLISH_ALPHABET.size\n",
        "log2M = ENGLISH_ALPHABET.log2_size\n",
        "R_huffman = compute_redundancy(H_huffman, log2M)\n",
        "print(f\"Huffman redundancy: {R_huffman:.2%}\")\n",
        "print(f\"Maximum entropy: {log2M:.4f} bits/char\")\n"
      ]
    },
    {
      "cell_type": "markdown",
      "metadata": {},
      "source": [
        "Train a stronger context model (n-gram) and PPM to compare redundancy gains.\n"
      ]
    },
    {
      "cell_type": "code",
      "execution_count": null,
      "metadata": {},
      "outputs": [],
      "source": [
        "ngram5 = NGramModel(ENGLISH_ALPHABET, order=5)\n",
        "ngram5.fit(train_text)\n",
        "H_ngram5 = ngram5.evaluate(test_text)\n",
        "R_ngram5 = compute_redundancy(H_ngram5, log2M)\n",
        "print(f\"N-gram (order=5): {H_ngram5:.4f} bits/char, {R_ngram5:.2%} redundancy\")\n",
        "\n",
        "ppm8 = PPMModel(ENGLISH_ALPHABET, depth=8)\n",
        "ppm8.fit(train_text)\n",
        "H_ppm8 = ppm8.evaluate(test_text)\n",
        "R_ppm8 = compute_redundancy(H_ppm8, log2M)\n",
        "print(f\"PPM (depth=8): {H_ppm8:.4f} bits/char, {R_ppm8:.2%} redundancy\")\n"
      ]
    },
    {
      "cell_type": "code",
      "execution_count": null,
      "metadata": {},
      "outputs": [],
      "source": [
        "models = ['Uniform', 'Huffman', 'N-gram (5)', 'PPM (8)']\n",
        "entropies = [log2M, H_huffman, H_ngram5, H_ppm8]\n",
        "redundancies = [0.0, R_huffman, R_ngram5, R_ppm8]\n",
        "\n",
        "fig, (ax1, ax2) = plt.subplots(1, 2, figsize=(14, 5))\n",
        "ax1.bar(models, entropies, color=['gray', 'blue', 'green', 'red'])\n",
        "ax1.set_ylabel('Entropy (bits/char)')\n",
        "ax1.set_title('Entropy by Model')\n",
        "ax1.axhline(log2M, color='black', linestyle='--', label='Max entropy')\n",
        "ax1.legend()\n",
        "\n",
        "ax2.bar(models, [r * 100 for r in redundancies], color=['gray', 'blue', 'green', 'red'])\n",
        "ax2.set_ylabel('Redundancy (%)')\n",
        "ax2.set_title('Redundancy by Model')\n",
        "plt.tight_layout()\n",
        "plt.show()\n"
      ]
    },
    {
      "cell_type": "markdown",
      "metadata": {},
      "source": [
        "The comparison shows that Huffman (single-character coding) captures only ~10–15% redundancy, while PPM (adaptive context) captures ~68–73%. This demonstrates Shannon's insight: most redundancy in natural language comes from dependencies (spelling, grammar, context), not just character frequencies.\n"
      ]
    },
    {
      "cell_type": "code",
      "execution_count": null,
      "metadata": {},
      "outputs": [],
      "source": [
        "# Assuming results exist from previous runs\n",
        "try:\n",
        "    table_md = generate_comparison_table(\"en\", \"text8\", \"2025-10-01\", output_format=\"markdown\")\n",
        "    print(table_md)\n",
        "except Exception as e:\n",
        "    print(f\"Could not generate table: {e}\")\n",
        "    print(\"Run 'reducelang huffman --lang en --corpus text8 --compare' first\")\n"
      ]
    },
    {
      "cell_type": "markdown",
      "metadata": {},
      "source": [
        "Huffman coding provides an optimal single-character baseline, but context-based models (n-gram, PPM) achieve much better compression by exploiting dependencies. This quantifies Shannon's redundancy framework and validates the ~68% English redundancy estimate.\n"
      ]
    },
    {
      "cell_type": "code",
      "execution_count": null,
      "metadata": {},
      "outputs": [],
      "source": [
        "output = {\n",
        "    \"huffman\": H_huffman,\n",
        "    \"unigram\": H_unigram,\n",
        "    \"ngram5\": H_ngram5,\n",
        "    \"ppm8\": H_ppm8,\n",
        "    \"redundancies\": {\"huffman\": R_huffman, \"ngram5\": R_ngram5, \"ppm8\": R_ppm8},\n",
        "}\n",
        "with open(\"huffman_comparison.json\", \"w\", encoding=\"utf-8\") as f:\n",
        "    json.dump(output, f, indent=2)\n",
        "print(\"Results saved to huffman_comparison.json\")\n"
      ]
    }
  ],
  "metadata": {
    "language_info": {
      "name": "python"
    }
  },
  "nbformat": 4,
  "nbformat_minor": 2
}
