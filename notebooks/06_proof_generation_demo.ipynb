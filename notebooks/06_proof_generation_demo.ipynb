{
  "cells": [
    {
      "cell_type": "markdown",
      "metadata": {},
      "source": [
        "# Proof Generation Demo\n",
        "\n",
        "This notebook demonstrates generating LaTeX/PDF proofs and Markdown/HTML static sites from entropy estimation results.\n"
      ]
    },
    {
      "cell_type": "code",
      "execution_count": null,
      "metadata": {},
      "outputs": [],
      "source": [
        "from pathlib import Path\n",
        "import json\n",
        "\n",
        "from reducelang.proofs import ProofGenerator, ProofRenderer, load_results_for_language\n",
        "from reducelang.report import generate_report\n"
      ]
    },
    {
      "cell_type": "markdown",
      "metadata": {},
      "source": [
        "The proof generation system loads results from JSON files, builds a context dict with all computed values, renders Jinja2 templates (LaTeX and Markdown), and compiles outputs to PDF and HTML.\n"
      ]
    },
    {
      "cell_type": "code",
      "execution_count": null,
      "metadata": {},
      "outputs": [],
      "source": [
        "# Load results and generate context (adjust snapshot/corpus as needed)\n",
        "context = load_results_for_language(\"en\", \"text8\", \"2025-10-01\")\n",
        "print(json.dumps({k: v for k, v in context.items() if not k.startswith('_')}, indent=2, default=str))\n"
      ]
    },
    {
      "cell_type": "markdown",
      "metadata": {},
      "source": [
        "Render LaTeX and Markdown templates using the `ProofRenderer`.\n"
      ]
    },
    {
      "cell_type": "code",
      "execution_count": null,
      "metadata": {},
      "outputs": [],
      "source": [
        "renderer = ProofRenderer()\n",
        "latex_path = Path(\"paper/english_redundancy.tex\")\n",
        "latex_path.parent.mkdir(parents=True, exist_ok=True)\n",
        "renderer.render_latex(context, latex_path)\n",
        "print(f\"LaTeX rendered: {latex_path}\")\n",
        "print(latex_path.read_text(encoding=\"utf-8\")[:500])\n"
      ]
    },
    {
      "cell_type": "code",
      "execution_count": null,
      "metadata": {},
      "outputs": [],
      "source": [
        "markdown_path = Path(\"site/english_redundancy.md\")\n",
        "markdown_path.parent.mkdir(parents=True, exist_ok=True)\n",
        "renderer.render_markdown(context, markdown_path)\n",
        "print(f\"Markdown rendered: {markdown_path}\")\n",
        "print(markdown_path.read_text(encoding=\"utf-8\")[:500])\n"
      ]
    },
    {
      "cell_type": "markdown",
      "metadata": {},
      "source": [
        "Generate figures for inclusion in the documents.\n"
      ]
    },
    {
      "cell_type": "code",
      "execution_count": null,
      "metadata": {},
      "outputs": [],
      "source": [
        "figs_dir = Path(\"paper/figs\")\n",
        "figs_dir.mkdir(parents=True, exist_ok=True)\n",
        "figure_paths = renderer.generate_figures(context, figs_dir)\n",
        "print(f\"Figures generated: {figure_paths}\")\n"
      ]
    },
    {
      "cell_type": "markdown",
      "metadata": {},
      "source": [
        "Optionally compile LaTeX to PDF (requires a LaTeX installation).\n"
      ]
    },
    {
      "cell_type": "code",
      "execution_count": null,
      "metadata": {},
      "outputs": [],
      "source": [
        "from reducelang.proofs.renderer import compile_latex_to_pdf\n",
        "pdf_path = compile_latex_to_pdf(latex_path)\n",
        "print(\"PDF:\", pdf_path)\n"
      ]
    },
    {
      "cell_type": "code",
      "execution_count": null,
      "metadata": {},
      "outputs": [],
      "source": [
        "from reducelang.proofs.renderer import build_static_site\n",
        "html_path = build_static_site(markdown_path, Path(\"site\"))\n",
        "print(\"HTML:\", html_path)\n"
      ]
    },
    {
      "cell_type": "markdown",
      "metadata": {},
      "source": [
        "End-to-end orchestration via `generate_report`.\n"
      ]
    },
    {
      "cell_type": "code",
      "execution_count": null,
      "metadata": {},
      "outputs": [],
      "source": [
        "paths = generate_report(lang=\"en\", corpus=\"text8\", snapshot=\"2025-10-01\", output_format=\"both\", output_dir=Path(\"paper\"))\n",
        "print(\"Generated:\", paths)\n"
      ]
    },
    {
      "cell_type": "markdown",
      "metadata": {},
      "source": [
        "The proof generation system automates the pipeline from results to publication-ready documents. Use the CLI command `reducelang report` for production workflows.\n"
      ]
    }
  ],
  "metadata": {
    "language_info": {
      "name": "python"
    }
  },
  "nbformat": 4,
  "nbformat_minor": 2
}
