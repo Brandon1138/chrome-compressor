{
  "cells": [
    {
      "cell_type": "markdown",
      "metadata": {},
      "source": [
        "# Alphabet Definitions for Redundancy Estimation\n",
        "\n",
        "This notebook demonstrates the `Alphabet` class from `reducelang.alphabet`, showing how we define symbol sets for English and Romanian, compute log₂M, and handle text normalization.\n"
      ]
    },
    {
      "cell_type": "code",
      "execution_count": null,
      "metadata": {},
      "outputs": [],
      "source": [
        "# %load_ext autoreload\n",
        "# %autoreload 2\n",
        "\n",
        "from reducelang.alphabet import (\n",
        "    Alphabet,\n",
        "    ENGLISH_ALPHABET,\n",
        "    ROMANIAN_ALPHABET,\n",
        "    ENGLISH_NO_SPACE,\n",
        ")\n",
        "import math\n"
      ]
    },
    {
      "cell_type": "markdown",
      "metadata": {},
      "source": [
        "Shannon's redundancy formula: R = 1 - H / log₂M, where M is the alphabet size. For English with 26 letters + space, M=27, log₂27 ≈ 4.755 bits/char.\n"
      ]
    },
    {
      "cell_type": "code",
      "execution_count": null,
      "metadata": {},
      "outputs": [],
      "source": [
        "print(f\"English alphabet: {ENGLISH_ALPHABET.symbols}\")\n",
        "print(f\"Size M = {ENGLISH_ALPHABET.size}\")\n",
        "print(f\"log₂M = {ENGLISH_ALPHABET.log2_size:.3f} bits/char\")\n"
      ]
    },
    {
      "cell_type": "code",
      "execution_count": null,
      "metadata": {},
      "outputs": [],
      "source": [
        "text = \"Hello, World! 123\"\n",
        "normalized = ENGLISH_ALPHABET.normalize(text)\n",
        "print(f\"Original: {text}\")\n",
        "print(f\"Normalized: {normalized}\")\n"
      ]
    },
    {
      "cell_type": "markdown",
      "metadata": {},
      "source": [
        "Romanian uses 31 letters (A–Z + Ă, Â, Î, Ș, Ț) plus space, giving M=32, so log₂32 = 5.000 bits/char exactly.\n"
      ]
    },
    {
      "cell_type": "code",
      "execution_count": null,
      "metadata": {},
      "outputs": [],
      "source": [
        "print(f\"Romanian alphabet: {ROMANIAN_ALPHABET.symbols}\")\n",
        "print(f\"Size M = {ROMANIAN_ALPHABET.size}\")\n",
        "print(f\"log₂M = {ROMANIAN_ALPHABET.log2_size:.3f} bits/char\")\n",
        "\n",
        "text_ro = \"Bună ziua, România!\"\n",
        "normalized_ro = ROMANIAN_ALPHABET.normalize(text_ro)\n",
        "print(f\"Original RO: {text_ro}\")\n",
        "print(f\"Normalized RO: {normalized_ro}\")\n"
      ]
    },
    {
      "cell_type": "code",
      "execution_count": null,
      "metadata": {},
      "outputs": [],
      "source": [
        "english_no_space = ENGLISH_ALPHABET.variant(include_space=False)\n",
        "print(f\"English without space: M = {english_no_space.size}, log₂M = {english_no_space.log2_size:.3f}\")\n"
      ]
    },
    {
      "cell_type": "markdown",
      "metadata": {},
      "source": [
        "These alphabet definitions form the foundation for all entropy calculations. In subsequent notebooks, we'll estimate H (entropy rate) and compute redundancy R.\n"
      ]
    },
    {
      "cell_type": "code",
      "execution_count": null,
      "metadata": {},
      "outputs": [],
      "source": [
        "assert ROMANIAN_ALPHABET.log2_size == 5.0, \"Romanian log₂M should be exactly 5.0\"\n"
      ]
    }
  ],
  "metadata": {
    "language_info": {
      "name": "python"
    }
  },
  "nbformat": 4,
  "nbformat_minor": 2
}
